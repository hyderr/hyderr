{
 "cells": [
  {
   "cell_type": "code",
   "execution_count": 17,
   "metadata": {},
   "outputs": [],
   "source": [
    "#import necessary libraries\n",
    "import numpy as np\n",
    "import pandas as pd\n",
    "#import kmeans class from sklearn.cluster\n",
    "from sklearn.cluster import KMeans\n",
    "#import make_blobs dataset from sklearn.cluster\n",
    "from sklearn.datasets import make_blobs\n"
   ]
  },
  {
   "cell_type": "code",
   "execution_count": 19,
   "metadata": {},
   "outputs": [
    {
     "data": {
      "text/plain": [
       "array([2, 0, 1, 1, 2, 0, 0, 0, 2, 2, 0, 2, 0, 1, 2, 1, 1, 2, 0, 1, 1, 1,\n",
       "       2, 2, 1, 0, 1, 2, 2, 2, 2, 1, 1, 1, 1, 1, 0, 1, 0, 1, 2, 1, 2, 0,\n",
       "       1, 0, 0, 2, 2, 2, 1, 2, 1, 2, 0, 1, 0, 0, 2, 1, 1, 1, 1, 0, 0, 2,\n",
       "       0, 2, 2, 1, 2, 2, 2, 1, 0, 1, 2, 1, 0, 0, 1, 2, 1, 0, 1, 2, 0, 0,\n",
       "       0, 1, 0, 0, 0, 1, 2, 0, 2, 2, 0, 0, 0, 2, 0, 2, 0, 1, 2, 1, 0, 0,\n",
       "       0, 1, 1, 0, 1, 2, 2, 2, 0, 0, 0, 1, 2, 1, 0, 1, 1, 1, 1, 2, 0, 1,\n",
       "       2, 1, 1, 0, 0, 1, 1, 0, 2, 2, 0, 2, 2, 2, 2, 1, 2, 2, 0, 2, 2, 2,\n",
       "       1, 2, 0, 1, 0, 2, 1, 0, 1, 1, 0, 2, 0, 0, 0, 0, 1, 2, 0, 1, 1, 1,\n",
       "       1, 1, 0, 1, 2, 2, 1, 0, 1, 1, 0, 0, 0, 1, 0, 0, 2, 2, 1, 0, 0, 0,\n",
       "       0, 1, 0, 2, 2, 2, 0, 2, 1, 2, 1, 2, 2, 2, 2, 1, 0, 1, 0, 1, 1, 2,\n",
       "       0, 1, 0, 0, 2, 1, 2, 1, 2, 1, 1, 1, 0, 1, 0, 2, 1, 1, 2, 2, 0, 2,\n",
       "       1, 0, 2, 2, 0, 0, 2, 2, 2, 0, 1, 2, 0, 1, 2, 0, 0, 2, 2, 0, 2, 0,\n",
       "       1, 2, 1, 0, 0, 2, 0, 0, 1, 0, 2, 2, 0, 2, 1, 2, 1, 2, 2, 1, 1, 2,\n",
       "       2, 1, 1, 1, 0, 0, 2, 2, 1, 1, 0, 0, 0, 0])"
      ]
     },
     "execution_count": 19,
     "metadata": {},
     "output_type": "execute_result"
    }
   ],
   "source": [
    "#define number of samples\n",
    "n_samples=300\n",
    "#define random state value to initialize the center\n",
    "random_state=20\n",
    "#define number of feature as 5\n",
    "x,y = make_blobs(n_samples=n_samples,n_features=5,random_state=None)\n",
    "#define number of cluster too be formed as 3 and in random state and fit features into the model\n",
    "predict_y = KMeans(n_clusters=3,random_state=random_state).fit_predict(x)\n",
    "#print the estimator pediction\n",
    "predict_y"
   ]
  },
  {
   "cell_type": "code",
   "execution_count": null,
   "metadata": {},
   "outputs": [],
   "source": []
  }
 ],
 "metadata": {
  "kernelspec": {
   "display_name": "Python 3",
   "language": "python",
   "name": "python3"
  },
  "language_info": {
   "codemirror_mode": {
    "name": "ipython",
    "version": 3
   },
   "file_extension": ".py",
   "mimetype": "text/x-python",
   "name": "python",
   "nbconvert_exporter": "python",
   "pygments_lexer": "ipython3",
   "version": "3.7.3"
  }
 },
 "nbformat": 4,
 "nbformat_minor": 2
}
